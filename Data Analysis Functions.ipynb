{
 "cells": [
  {
   "cell_type": "code",
   "execution_count": 1,
   "id": "99ba3844",
   "metadata": {},
   "outputs": [
    {
     "name": "stderr",
     "output_type": "stream",
     "text": [
      "\n",
      "KeyboardInterrupt\n",
      "\n"
     ]
    }
   ],
   "source": [
    "import numpy as np\n",
    "import pandas as pd\n",
    "import matplotlib.pyplot as plt\n",
    "import seaborn as sns\n",
    "%matplotlib "
   ]
  },
  {
   "cell_type": "code",
   "execution_count": null,
   "id": "ee38093d",
   "metadata": {},
   "outputs": [],
   "source": [
    "#import csv file\n",
    "data=pd.read_csv(\"\")"
   ]
  },
  {
   "cell_type": "code",
   "execution_count": null,
   "id": "a24714d9",
   "metadata": {},
   "outputs": [],
   "source": [
    "#to read the whole file\n",
    "print(data.to_string())"
   ]
  },
  {
   "cell_type": "code",
   "execution_count": null,
   "id": "dc2a7ff4",
   "metadata": {},
   "outputs": [],
   "source": [
    "#Increase the maximum number of rows to display the entire DataFrame\n",
    "pd.options.display.max_rows = "
   ]
  },
  {
   "cell_type": "code",
   "execution_count": null,
   "id": "ace62063",
   "metadata": {},
   "outputs": [],
   "source": [
    "#import excel file\n",
    "data=pd.read_excel(\"\")"
   ]
  },
  {
   "cell_type": "code",
   "execution_count": null,
   "id": "194f9c73",
   "metadata": {},
   "outputs": [],
   "source": [
    "#to read json file\n",
    "df = pd.read_json('data.json')"
   ]
  },
  {
   "cell_type": "code",
   "execution_count": null,
   "id": "c9e604ac",
   "metadata": {},
   "outputs": [],
   "source": [
    "data.head()"
   ]
  },
  {
   "cell_type": "code",
   "execution_count": null,
   "id": "cd95896e",
   "metadata": {},
   "outputs": [],
   "source": [
    "data.tail()"
   ]
  },
  {
   "cell_type": "code",
   "execution_count": null,
   "id": "89ec45c3",
   "metadata": {},
   "outputs": [],
   "source": [
    "data.info()"
   ]
  },
  {
   "cell_type": "code",
   "execution_count": null,
   "id": "458962bc",
   "metadata": {},
   "outputs": [],
   "source": [
    "#remove rows that has cells with empty values.the dropna() method returns a new DataFrame, and will not change the original.\n",
    "data.dropna()"
   ]
  },
  {
   "cell_type": "code",
   "execution_count": null,
   "id": "05398d93",
   "metadata": {},
   "outputs": [],
   "source": [
    "#will NOT return a new DataFrame, but it will remove all rows containing NULL values from the original DataFrame.\n",
    "data.dropna(inplace = True)"
   ]
  },
  {
   "cell_type": "code",
   "execution_count": null,
   "id": "516b02da",
   "metadata": {},
   "outputs": [],
   "source": [
    "#Replace NULL values with the number 130\n",
    "data.fillna(130, inplace = True)"
   ]
  },
  {
   "cell_type": "code",
   "execution_count": null,
   "id": "d9224e29",
   "metadata": {},
   "outputs": [],
   "source": [
    "#Replace NULL values in columns with the number 0\n",
    "data['pace'].fillna(0, inplace=True)"
   ]
  },
  {
   "cell_type": "code",
   "execution_count": null,
   "id": "706c782c",
   "metadata": {},
   "outputs": [],
   "source": [
    "#Replace Using Mean, Median, or Mode\n",
    "x = data[\"Calories\"].mean()\n",
    "data[\"Calories\"].fillna(x, inplace = True)"
   ]
  },
  {
   "cell_type": "code",
   "execution_count": null,
   "id": "35f4dd24",
   "metadata": {},
   "outputs": [],
   "source": [
    "x = data[\"Calories\"].median()\n",
    "data[\"Calories\"].fillna(x, inplace = True)"
   ]
  },
  {
   "cell_type": "code",
   "execution_count": null,
   "id": "2bb613e4",
   "metadata": {},
   "outputs": [],
   "source": [
    "x = data[\"Calories\"].mode()[0]\n",
    "data[\"Calories\"].fillna(x, inplace = True)"
   ]
  },
  {
   "cell_type": "code",
   "execution_count": null,
   "id": "81a1ca07",
   "metadata": {},
   "outputs": [],
   "source": [
    "# to convert all cells in the 'Date' column into dates\n",
    "data['Date'] = pd.to_datetime(data['Date'])"
   ]
  },
  {
   "cell_type": "code",
   "execution_count": null,
   "id": "f693b298",
   "metadata": {},
   "outputs": [],
   "source": [
    "#to fix wrong value in row 7 by replacing it with 45\n",
    "df.loc[7, 'Duration'] = 45"
   ]
  },
  {
   "cell_type": "code",
   "execution_count": null,
   "id": "cdf30022",
   "metadata": {},
   "outputs": [],
   "source": [
    "#Loop through all values in the \"Duration\" column.If the value is higher than 120, set it to 120:\n",
    "for x in df.index:\n",
    "  if df.loc[x, \"Duration\"] > 120:\n",
    "    df.loc[x, \"Duration\"] = 120"
   ]
  },
  {
   "cell_type": "code",
   "execution_count": null,
   "id": "5ea48f4a",
   "metadata": {},
   "outputs": [],
   "source": [
    "#Delete rows where \"Duration\" is higher than 120:\n",
    "for x in df.index:\n",
    "  if df.loc[x, \"Duration\"] > 120:\n",
    "    df.drop(x, inplace = True)"
   ]
  },
  {
   "cell_type": "code",
   "execution_count": null,
   "id": "f2cb945c",
   "metadata": {},
   "outputs": [],
   "source": [
    "data = data.drop(columns=[''])"
   ]
  },
  {
   "cell_type": "code",
   "execution_count": null,
   "id": "808f9230",
   "metadata": {},
   "outputs": [],
   "source": [
    "drop_cols = ['ocean_proximity']\n",
    "data.drop(drop_cols,axis=1,inplace=True)"
   ]
  },
  {
   "cell_type": "code",
   "execution_count": null,
   "id": "22583302",
   "metadata": {},
   "outputs": [],
   "source": [
    "df.duplicated()"
   ]
  },
  {
   "cell_type": "code",
   "execution_count": null,
   "id": "f1be4d3c",
   "metadata": {},
   "outputs": [],
   "source": [
    "df.drop_duplicates(inplace = True)"
   ]
  },
  {
   "cell_type": "code",
   "execution_count": null,
   "id": "555d0cc7",
   "metadata": {},
   "outputs": [],
   "source": [
    "data.shape"
   ]
  },
  {
   "cell_type": "code",
   "execution_count": null,
   "id": "eed96491",
   "metadata": {},
   "outputs": [],
   "source": [
    "len()"
   ]
  },
  {
   "cell_type": "code",
   "execution_count": null,
   "id": "7c0118aa",
   "metadata": {},
   "outputs": [],
   "source": [
    "data.dtypes"
   ]
  },
  {
   "cell_type": "code",
   "execution_count": null,
   "id": "9e945f87",
   "metadata": {},
   "outputs": [],
   "source": [
    "data.height_cm.dtypes"
   ]
  },
  {
   "cell_type": "code",
   "execution_count": null,
   "id": "9e4e3848",
   "metadata": {},
   "outputs": [],
   "source": [
    "df.select_dtypes(include='int64')"
   ]
  },
  {
   "cell_type": "code",
   "execution_count": null,
   "id": "1edca734",
   "metadata": {},
   "outputs": [],
   "source": [
    "df.select_dtypes(exclude='int64')"
   ]
  },
  {
   "cell_type": "code",
   "execution_count": null,
   "id": "73089923",
   "metadata": {},
   "outputs": [],
   "source": [
    "data.size"
   ]
  },
  {
   "cell_type": "code",
   "execution_count": null,
   "id": "c4ef43f7",
   "metadata": {},
   "outputs": [],
   "source": [
    "data.describe()"
   ]
  },
  {
   "cell_type": "code",
   "execution_count": null,
   "id": "738b0fe8",
   "metadata": {},
   "outputs": [],
   "source": [
    "data.describe(include='all').T"
   ]
  },
  {
   "cell_type": "code",
   "execution_count": null,
   "id": "528fdd3d",
   "metadata": {},
   "outputs": [],
   "source": [
    "data.isnull()"
   ]
  },
  {
   "cell_type": "code",
   "execution_count": null,
   "id": "9aca7283",
   "metadata": {},
   "outputs": [],
   "source": [
    "data.isna().any()"
   ]
  },
  {
   "cell_type": "code",
   "execution_count": null,
   "id": "8eead6bb",
   "metadata": {},
   "outputs": [],
   "source": [
    "data.isnull().sum()"
   ]
  },
  {
   "cell_type": "code",
   "execution_count": null,
   "id": "d2d8313b",
   "metadata": {},
   "outputs": [],
   "source": []
  },
  {
   "cell_type": "code",
   "execution_count": null,
   "id": "a591bc4a",
   "metadata": {},
   "outputs": [],
   "source": [
    "# Loc  is used to select by labels \n",
    "# The Label of the column or column names\n",
    "data.loc[:5,['median_income','median_house_value']]"
   ]
  },
  {
   "cell_type": "code",
   "execution_count": null,
   "id": "60c73ae3",
   "metadata": {},
   "outputs": [],
   "source": [
    "#  iloc is used to select by position \n",
    "# it used for selecting rows \n",
    "data.iloc[:4,:6]"
   ]
  },
  {
   "cell_type": "code",
   "execution_count": null,
   "id": "0cfe70bd",
   "metadata": {},
   "outputs": [],
   "source": [
    "#Slicing\n",
    "data[0:4]"
   ]
  },
  {
   "cell_type": "code",
   "execution_count": null,
   "id": "06e5eb7e",
   "metadata": {},
   "outputs": [],
   "source": [
    "# Nunique  counts the number of unique entries over the column (or) rows \n",
    "# it is very useful in caterogical features.\n",
    "data.nunique()"
   ]
  },
  {
   "cell_type": "code",
   "execution_count": null,
   "id": "26b3dfc5",
   "metadata": {},
   "outputs": [],
   "source": [
    "data[\"\"].unique()"
   ]
  },
  {
   "cell_type": "code",
   "execution_count": null,
   "id": "40dc39d0",
   "metadata": {},
   "outputs": [],
   "source": [
    "data[\"\"].rank()"
   ]
  },
  {
   "cell_type": "code",
   "execution_count": null,
   "id": "03cb6005",
   "metadata": {},
   "outputs": [],
   "source": [
    "nationality = [\"Argentina\", \"Portugal\", \"Sweden\", \"England\"]\n",
    "data[data.nationality.isin(nationality)]"
   ]
  },
  {
   "cell_type": "code",
   "execution_count": null,
   "id": "4bbd2d1e",
   "metadata": {},
   "outputs": [],
   "source": [
    "data.memory_usage()"
   ]
  },
  {
   "cell_type": "code",
   "execution_count": null,
   "id": "d267e0bd",
   "metadata": {},
   "outputs": [],
   "source": [
    "data.sample(n=8)"
   ]
  },
  {
   "cell_type": "code",
   "execution_count": null,
   "id": "2121b574",
   "metadata": {},
   "outputs": [],
   "source": [
    "data.sample(frac = 0.25)"
   ]
  },
  {
   "cell_type": "code",
   "execution_count": null,
   "id": "3c187aec",
   "metadata": {},
   "outputs": [],
   "source": [
    "data.replace(1.0, 1.1)"
   ]
  },
  {
   "cell_type": "code",
   "execution_count": null,
   "id": "44f6dbca",
   "metadata": {},
   "outputs": [],
   "source": [
    "#using dictionary for replace\n",
    "data.replace({1.0: 1.1,  4.0: 4.1, 3.0: 3.1})"
   ]
  },
  {
   "cell_type": "code",
   "execution_count": null,
   "id": "865aae47",
   "metadata": {},
   "outputs": [],
   "source": [
    "#Groupby\n",
    "data.groupby(\"nationality\")['value_eur'].sum()"
   ]
  },
  {
   "cell_type": "code",
   "execution_count": null,
   "id": "cb822fbf",
   "metadata": {},
   "outputs": [],
   "source": [
    "data.groupby(['nationality', 'league_rank'])['value_eur', 'wage_eur'].agg([np.mean, np.median])"
   ]
  },
  {
   "cell_type": "code",
   "execution_count": null,
   "id": "4f0d064c",
   "metadata": {},
   "outputs": [],
   "source": [
    "data.index"
   ]
  },
  {
   "cell_type": "code",
   "execution_count": null,
   "id": "5e6c0892",
   "metadata": {},
   "outputs": [],
   "source": [
    "data.count()"
   ]
  },
  {
   "cell_type": "code",
   "execution_count": null,
   "id": "561f8384",
   "metadata": {},
   "outputs": [],
   "source": [
    "data[‘’].value_counts()"
   ]
  },
  {
   "cell_type": "code",
   "execution_count": null,
   "id": "e3d9febf",
   "metadata": {},
   "outputs": [],
   "source": [
    "data[''].value_counts(ascending=True)"
   ]
  },
  {
   "cell_type": "code",
   "execution_count": null,
   "id": "b9550dd0",
   "metadata": {},
   "outputs": [],
   "source": [
    "data.columns"
   ]
  },
  {
   "cell_type": "code",
   "execution_count": null,
   "id": "9dd00e47",
   "metadata": {},
   "outputs": [],
   "source": [
    "#Sorting\n",
    "#Dataframe by Sorting the index\n",
    "data.sort_index(axis=1,ascending=True)"
   ]
  },
  {
   "cell_type": "code",
   "execution_count": null,
   "id": "10fd517b",
   "metadata": {},
   "outputs": [],
   "source": [
    "#Sort by values\n",
    "data.sort_values(by='median_house_value')"
   ]
  },
  {
   "cell_type": "code",
   "execution_count": null,
   "id": "bf02ea20",
   "metadata": {},
   "outputs": [],
   "source": [
    "data.nsmallest(5)"
   ]
  },
  {
   "cell_type": "code",
   "execution_count": null,
   "id": "140c4bec",
   "metadata": {},
   "outputs": [],
   "source": [
    "data.nsmallest(5,'median_house_value')"
   ]
  },
  {
   "cell_type": "code",
   "execution_count": null,
   "id": "96ee4cba",
   "metadata": {},
   "outputs": [],
   "source": [
    "data.nlargest(5)"
   ]
  },
  {
   "cell_type": "code",
   "execution_count": null,
   "id": "76d941f4",
   "metadata": {},
   "outputs": [],
   "source": [
    "data.nlargest(5,'median_house_value')"
   ]
  },
  {
   "cell_type": "code",
   "execution_count": null,
   "id": "c1ac38e0",
   "metadata": {},
   "outputs": [],
   "source": [
    "data.rename(columns = {\"weight_kg\": \"Weight (kg)\", \"height_cm\": \"Height (cm)\"})"
   ]
  },
  {
   "cell_type": "code",
   "execution_count": null,
   "id": "4996124e",
   "metadata": {},
   "outputs": [],
   "source": [
    "data.query('5000 < total_rooms < 5500')[:5]"
   ]
  },
  {
   "cell_type": "code",
   "execution_count": null,
   "id": "f7094f3c",
   "metadata": {},
   "outputs": [],
   "source": [
    "data.query(\"shooting > passing\")"
   ]
  },
  {
   "cell_type": "code",
   "execution_count": null,
   "id": "60e91208",
   "metadata": {},
   "outputs": [],
   "source": [
    "#new column\n",
    "new_col=np.random.randn(20640)\n",
    "#insert the new column at position 8\n",
    "data.insert (8,'new_col',new_col)\n",
    "random_col = np.random.randint(100, size=len(data))"
   ]
  },
  {
   "cell_type": "code",
   "execution_count": null,
   "id": "293ba8b5",
   "metadata": {},
   "outputs": [],
   "source": [
    "#to get the percent change from the previous value of a variable\n",
    "data.value_eur.pct_change()"
   ]
  },
  {
   "cell_type": "code",
   "execution_count": null,
   "id": "d32e7339",
   "metadata": {},
   "outputs": [],
   "source": [
    "data[‘’].describe()"
   ]
  },
  {
   "cell_type": "code",
   "execution_count": null,
   "id": "21353bda",
   "metadata": {},
   "outputs": [],
   "source": [
    "#Finding Relationships. The corr() method calculates the relationship between each column in your data set.\n",
    "Result Explained\n",
    "The Result of the corr() method is a table with a lot of numbers that represents how well the relationship is between two columns.\n",
    "\n",
    "The number varies from -1 to 1.\n",
    "\n",
    "1 means that there is a 1 to 1 relationship (a perfect correlation), and for this data set, each time a value went up in the first column, the other one went up as well.\n",
    "\n",
    "0.9 is also a good relationship, and if you increase one value, the other will probably increase as well.\n",
    "\n",
    "-0.9 would be just as good relationship as 0.9, but if you increase one value, the other will probably go down.\n",
    "\n",
    "0.2 means NOT a good relationship, meaning that if one value goes up does not mean that the other will.\n",
    "\n",
    "What is a good correlation? It depends on the use, but I think it is safe to say you have to have at least 0.6 (or -0.6) to call it a good correlation.\n",
    "\n",
    "Perfect Correlation:\n",
    "We can see that \"Duration\" and \"Duration\" got the number 1.000000, which makes sense, each column always has a perfect relationship with itself.\n",
    "\n",
    "Good Correlation:\n",
    "\"Duration\" and \"Calories\" got a 0.922721 correlation, which is a very good correlation, and we can predict that the longer you work out, the more calories you burn, and the other way around: if you burned a lot of calories, you probably had a long work out.\n",
    "\n",
    "Bad Correlation:\n",
    "\"Duration\" and \"Maxpulse\" got a 0.009403 correlation, which is a very bad correlation, meaning that we can not predict the max pulse by just looking at the duration of the work out, and vice versa.\n",
    "df.corr()"
   ]
  },
  {
   "cell_type": "code",
   "execution_count": null,
   "id": "6fd55d5e",
   "metadata": {},
   "outputs": [],
   "source": [
    "df.plot(kind = 'scatter', x = 'Duration', y = 'Calories')\n",
    "plt.show()"
   ]
  },
  {
   "cell_type": "code",
   "execution_count": null,
   "id": "4ebd4414",
   "metadata": {},
   "outputs": [],
   "source": [
    "#Use the kind argument to specify that you want a histogram:\n",
    "kind = 'hist'\n",
    "A histogram needs only one column.\n",
    "A histogram shows us the frequency of each interval, e.g. how many workouts lasted between 50 and 60 minutes?\n",
    "In the example below we will use the \"Duration\" column to create the histogram:\n",
    "df[\"Duration\"].plot(kind = 'hist')"
   ]
  },
  {
   "cell_type": "code",
   "execution_count": null,
   "id": "73e9eb05",
   "metadata": {},
   "outputs": [],
   "source": [
    "plt.plot(x, y)\n",
    "\n",
    "plt.title(\"Sports Watch Data\")\n",
    "plt.xlabel(\"Average Pulse\")\n",
    "plt.ylabel(\"Calorie Burnage\")\n",
    "\n",
    "plt.show()"
   ]
  },
  {
   "cell_type": "code",
   "execution_count": null,
   "id": "804df079",
   "metadata": {},
   "outputs": [],
   "source": [
    "x = [\"APPLES\", \"BANANAS\"]\n",
    "y = [400, 350]\n",
    "\n",
    "plt.bar(x, y)\n",
    "plt.show()"
   ]
  },
  {
   "cell_type": "code",
   "execution_count": null,
   "id": "b716ba55",
   "metadata": {},
   "outputs": [],
   "source": [
    "x = np.array([\"A\", \"B\", \"C\", \"D\"])\n",
    "y = np.array([3, 8, 1, 10])\n",
    "\n",
    "plt.barh(x, y)\n",
    "plt.show()"
   ]
  },
  {
   "cell_type": "code",
   "execution_count": null,
   "id": "184dae4b",
   "metadata": {},
   "outputs": [],
   "source": [
    "x = np.array([\"A\", \"B\", \"C\", \"D\"])\n",
    "y = np.array([3, 8, 1, 10])\n",
    "\n",
    "plt.bar(x, y, color = \"hotpink\")\n",
    "plt.show()"
   ]
  },
  {
   "cell_type": "code",
   "execution_count": null,
   "id": "a9817e69",
   "metadata": {},
   "outputs": [],
   "source": [
    "x = np.array([\"A\", \"B\", \"C\", \"D\"])\n",
    "y = np.array([3, 8, 1, 10])\n",
    "\n",
    "plt.bar(x, y, width = 0.1)\n",
    "plt.show()"
   ]
  },
  {
   "cell_type": "code",
   "execution_count": null,
   "id": "5d7cb1e8",
   "metadata": {},
   "outputs": [],
   "source": [
    "#Note: For horizontal bars, use height instead of width\n",
    "x = np.array([\"A\", \"B\", \"C\", \"D\"])\n",
    "y = np.array([3, 8, 1, 10])\n",
    "\n",
    "plt.barh(x, y, height = 0.1)\n",
    "plt.show()"
   ]
  },
  {
   "cell_type": "code",
   "execution_count": null,
   "id": "bbf312f4",
   "metadata": {},
   "outputs": [],
   "source": [
    "#A histogram is a graph showing frequency distributions.\n",
    "It is a graph showing the number of observations within each given interval.\n",
    "Example: Say you ask for the height of 250 people, you might end up with a histogram like this:\n",
    "        \n"
   ]
  },
  {
   "cell_type": "code",
   "execution_count": null,
   "id": "be496298",
   "metadata": {},
   "outputs": [],
   "source": [
    "#With Pyplot, you can use the pie() function to draw pie charts:\n",
    "y = np.array([35, 25, 25, 15])\n",
    "\n",
    "plt.pie(y)\n",
    "plt.show()\n",
    "\n",
    "y = np.array([35, 25, 25, 15])\n",
    "mylabels = [\"Apples\", \"Bananas\", \"Cherries\", \"Dates\"]\n",
    "\n",
    "plt.pie(y, labels = mylabels)\n",
    "plt.show() \n",
    "\n",
    "y = np.array([35, 25, 25, 15])\n",
    "mylabels = [\"Apples\", \"Bananas\", \"Cherries\", \"Dates\"]\n",
    "\n",
    "plt.pie(y, labels = mylabels, startangle = 90)\n",
    "plt.show() \n",
    "\n",
    "y = np.array([35, 25, 25, 15])\n",
    "mylabels = [\"Apples\", \"Bananas\", \"Cherries\", \"Dates\"]\n",
    "myexplode = [0.2, 0, 0, 0]\n",
    "\n",
    "plt.pie(y, labels = mylabels, explode = myexplode)\n",
    "plt.show() \n",
    "\n",
    "y = np.array([35, 25, 25, 15])\n",
    "mylabels = [\"Apples\", \"Bananas\", \"Cherries\", \"Dates\"]\n",
    "myexplode = [0.2, 0, 0, 0]\n",
    "\n",
    "plt.pie(y, labels = mylabels, explode = myexplode, shadow = True)\n",
    "plt.show() \n",
    "\n",
    "y = np.array([35, 25, 25, 15])\n",
    "mylabels = [\"Apples\", \"Bananas\", \"Cherries\", \"Dates\"]\n",
    "mycolors = [\"black\", \"hotpink\", \"b\", \"#4CAF50\"]\n",
    "\n",
    "plt.pie(y, labels = mylabels, colors = mycolors)\n",
    "plt.show() \n",
    "\n",
    "y = np.array([35, 25, 25, 15])\n",
    "mylabels = [\"Apples\", \"Bananas\", \"Cherries\", \"Dates\"]\n",
    "\n",
    "plt.pie(y, labels = mylabels)\n",
    "plt.legend()\n",
    "plt.show() \n",
    "\n",
    "y = np.array([35, 25, 25, 15])\n",
    "mylabels = [\"Apples\", \"Bananas\", \"Cherries\", \"Dates\"]\n",
    "\n",
    "plt.pie(y, labels = mylabels)\n",
    "plt.legend(title = \"Four Fruits:\")\n",
    "plt.show() \n",
    "\n"
   ]
  }
 ],
 "metadata": {
  "kernelspec": {
   "display_name": "Python 3 (ipykernel)",
   "language": "python",
   "name": "python3"
  },
  "language_info": {
   "codemirror_mode": {
    "name": "ipython",
    "version": 3
   },
   "file_extension": ".py",
   "mimetype": "text/x-python",
   "name": "python",
   "nbconvert_exporter": "python",
   "pygments_lexer": "ipython3",
   "version": "3.9.12"
  }
 },
 "nbformat": 4,
 "nbformat_minor": 5
}
